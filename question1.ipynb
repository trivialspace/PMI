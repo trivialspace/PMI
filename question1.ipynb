{
 "cells": [
  {
   "cell_type": "markdown",
   "metadata": {},
   "source": [
    " ##CO2 reduction computation  \n",
    " Let P be the total pollution produced in one month.  \n",
    " Without reduction, the total would be 12 times the pollution P  \n",
    " With reduction, we have a geometric ratio 0.9**0+0.9**1+0.9**2... 0.9**11  \n",
    " This evaluates to (1-0.9**12)/(1-0.9) = 7.1757  \n",
    " The difference is therefore 4.8243 .  \n",
    " The pollution produced is 404 g/mile * (5/8) mile/km = 252.5 g / km  \n",
    " The total pollution reduction is 252.5 * 4.8243 * Total km  \n",
    " This represents a reduction of about 40%.  \n",
    " To compute the distance travelled between two consecutive points, we use the L1 distance, which better mimics car travel in a city (the streets in San Francisco are more or less oriented according to the cardinal points).  \n",
    " The number of KM travelled while empty comes out to about 2.3 * 10^6 km (computing the distance between points on consecutive rows).  \n",
    " Total CO2 saved: 2.8 *10^6 kg  "
   ]
  },
  {
   "cell_type": "code",
   "execution_count": 0,
   "metadata": {},
   "outputs": [],
   "source": [
    "import pandas as pd\n",
    "import utm\n",
    "import math\n",
    "import os\n",
    "from pathlib import Path"
   ]
  },
  {
   "cell_type": "code",
   "execution_count": 0,
   "metadata": {},
   "outputs": [],
   "source": [
    "# Reading only one file for testing.\n",
    "#df = pd.read_csv(\"./cabspottingdata/new_abboip.txt\", sep=\" \", names=['lat', 'long', 'busy','timestamp'])\n"
   ]
  },
  {
   "cell_type": "code",
   "execution_count": 0,
   "metadata": {},
   "outputs": [],
   "source": []
  },
  {
   "cell_type": "code",
   "execution_count": 0,
   "metadata": {},
   "outputs": [],
   "source": [
    "# Euclidean distance\n",
    "\n",
    "def dist(a:float,b:float)->float:\n",
    "    if math.isnan(a) or math.isnan(b):\n",
    "        return 0.0\n",
    "    else:\n",
    "        return math.sqrt(a**2 + b**2) \n"
   ]
  },
  {
   "cell_type": "code",
   "execution_count": 0,
   "metadata": {},
   "outputs": [],
   "source": [
    "# Distance on empty uses L1\n",
    "\n",
    "def distance_on_empty(df:pd.DataFrame, col='distance_l1_km')->float:\n",
    "    return df[df.busy==0][col].sum()\n"
   ]
  },
  {
   "cell_type": "code",
   "execution_count": 0,
   "metadata": {},
   "outputs": [],
   "source": [
    "# Prepare the dataframe, computing many derived pieces of information that will be useful for the second question\n",
    "\n",
    "def prepare_dataframe(df:pd.DataFrame)->pd.DataFrame:\n",
    "    df.lat = pd.to_numeric(df.lat, errors='coerce')\n",
    "    df.long = pd.to_numeric(df.long, errors='coerce')\n",
    "    df.busy = pd.to_numeric(df.busy, errors='coerce', downcast='integer')\n",
    "    df.timestamp = pd.to_numeric(df.timestamp, errors='coerce', downcast='integer')\n",
    "    df.timestamp = pd.to_datetime(df.timestamp, unit='s')\n",
    "    df['x']=df.apply(lambda z: utm.from_latlon(z['lat'], z['long'])[0], axis=1)\n",
    "    df['y']=df.apply(lambda z: utm.from_latlon(z['lat'], z['long'])[1], axis=1)\n",
    "    df['day']=df.timestamp.dt.day\n",
    "    df['month'] = df.timestamp.dt.month\n",
    "    df['x_distance']=(df.x - df.x.shift())\n",
    "    df['y_distance']=(df.y - df.y.shift())\n",
    "    df['duration'] = df.timestamp - df.timestamp.shift()\n",
    "    df['distance_km'] = df.apply(lambda z: dist(z['x_distance'], z['y_distance']), axis=1)/1000\n",
    "    df['distance_l1_km'] = df.apply(lambda z: abs(z['x_distance']) + abs(z['y_distance']), axis=1)/1000\n",
    "    df['time_15min']=df.timestamp.dt.round('15min')\n",
    "    df['dropoff'] = (df.busy - df.busy.shift())==-1\n",
    "    df['pickup'] = (df.busy - df.busy.shift())==1\n",
    "    df['x_round10'] = df.x.round(-1)\n",
    "    df['y_round10'] = df.y.round(-1)\n",
    "    df['weekday'] = df.timestamp.dt.weekday<5\n",
    "    df.loc[(df.month==5) & (df.day==26),'weekday']=False # Memorial Day is a weekend\n",
    "    df['time_only'] = df['timestamp'].dt.time\n",
    "    return df\n"
   ]
  },
  {
   "cell_type": "code",
   "execution_count": 0,
   "metadata": {},
   "outputs": [],
   "source": [
    "# Iterating through the files is quite time consuming. The UTM computations are costly but necessary: they allow to convert from the (latitude, longitude) system to a projected system where we can compute usual distances. \n",
    "\n",
    "def iterate_files()->(pd.DataFrame, int):\n",
    "    files = os.listdir('./cabspottingdata')\n",
    "    result_df = []\n",
    "    result_km = []\n",
    "    for file in files:\n",
    "        df = pd.read_csv('./cabspottingdata/'+file, sep=\" \", names=['lat', 'long', 'busy','timestamp'])\n",
    "        df['driver'] = file.split(sep='.')[0]\n",
    "        df = prepare_dataframe(df)\n",
    "        total_km = distance_on_empty(df)\n",
    "        result_km.append(total_km)\n",
    "        df = df[df.pickup]\n",
    "        result_df.append(df.copy())\n",
    "    return pd.concat(result_df), result_km\n",
    "\n",
    "def iterate_files2():\n",
    "    result_df = []\n",
    "    files = os.listdir('./cabspottingdata')\n",
    "    for file in files:\n",
    "        df = pd.read_csv('./cabspottingdata/'+file, sep=\" \", names=['lat', 'long', 'busy','timestamp'])\n",
    "        df['driver'] = file.split(sep='.')[0]\n",
    "        result_df.append(df.copy())\n",
    "    df_full = pd.concat(result_df)\n",
    "    df_full.to_csv(\"full_df.csv\", index=False)\n",
    "    return df_full\n",
    "\n"
   ]
  },
  {
   "cell_type": "code",
   "execution_count": 0,
   "metadata": {},
   "outputs": [],
   "source": [
    "# Treat large file by chunks (for iterate_files2)\n",
    "result_df = []\n",
    "result_km = []\n",
    "for chunk in pd.read_csv('full_df.csv', chunksize=10**6):\n",
    "    df = prepare_dataframe(chunk)\n",
    "    total_km = distance_on_empty(df)\n",
    "    result_km.append(total_km)\n",
    "    df = df[df.pickup]\n",
    "    result_df.append(df.copy())\n",
    "\n"
   ]
  }
 ],
 "metadata": {
  "file_extension": ".py",
  "kernelspec": {
   "display_name": "Python 3",
   "language": "python",
   "name": "python3"
  },
  "language_info": {
   "codemirror_mode": {
    "name": "ipython",
    "version": 3
   },
   "file_extension": ".py",
   "mimetype": "text/x-python",
   "name": "python",
   "nbconvert_exporter": "python",
   "pygments_lexer": "ipython3",
   "version": "3.7.4"
  },
  "mimetype": "text/x-python",
  "name": "python",
  "npconvert_exporter": "python",
  "pygments_lexer": "ipython3",
  "version": 3
 },
 "nbformat": 4,
 "nbformat_minor": 2
}
